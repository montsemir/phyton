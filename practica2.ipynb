{
  "nbformat": 4,
  "nbformat_minor": 0,
  "metadata": {
    "colab": {
      "name": "practica2.ipynb",
      "provenance": [],
      "collapsed_sections": [],
      "authorship_tag": "ABX9TyOT7PVkebfeDRjx4X29l+U8",
      "include_colab_link": true
    },
    "kernelspec": {
      "name": "python3",
      "display_name": "Python 3"
    },
    "language_info": {
      "name": "python"
    }
  },
  "cells": [
    {
      "cell_type": "markdown",
      "metadata": {
        "id": "view-in-github",
        "colab_type": "text"
      },
      "source": [
        "<a href=\"https://colab.research.google.com/github/montsemir/phyton/blob/main/practica2.ipynb\" target=\"_parent\"><img src=\"https://colab.research.google.com/assets/colab-badge.svg\" alt=\"Open In Colab\"/></a>"
      ]
    },
    {
      "cell_type": "markdown",
      "metadata": {
        "id": "RkQihOEMDoeQ"
      },
      "source": [
        "Exploramos las carpetas de tu máquina Linux y miramos la ayuda del sistema"
      ]
    },
    {
      "cell_type": "code",
      "metadata": {
        "id": "eKViGXXv4Eys"
      },
      "source": [
        "!help"
      ],
      "execution_count": null,
      "outputs": []
    },
    {
      "cell_type": "code",
      "metadata": {
        "id": "etDv35JWFStd"
      },
      "source": [
        "man find"
      ],
      "execution_count": 49,
      "outputs": []
    },
    {
      "cell_type": "code",
      "metadata": {
        "id": "-WBxwC9P4oSr"
      },
      "source": [
        "!find / -name '*.ipynb'"
      ],
      "execution_count": null,
      "outputs": []
    },
    {
      "cell_type": "code",
      "metadata": {
        "id": "QEigAnT6GH5E"
      },
      "source": [
        "# comentario1\n"
      ],
      "execution_count": 53,
      "outputs": []
    },
    {
      "cell_type": "code",
      "metadata": {
        "colab": {
          "base_uri": "https://localhost:8080/"
        },
        "id": "WMTFiDd0ILIp",
        "outputId": "adc887ea-d855-465d-f272-be1a24fdd97d"
      },
      "source": [
        "\"\"\"\n",
        "lectura de variable por teclado\n",
        "y conversion a tipo numerico para operar\n",
        "\n",
        "\"\"\"\n",
        "num = input(\"Dame un numero \")\n",
        "print(\"Tu numero es\", num)\n",
        "print(\"Tu numero multiplicado por 5 es\", num*5)\n",
        "\"\"\"\n",
        " lo convertimos a entero\n",
        "\"\"\"\n",
        "num = int(num)\n",
        "print(\"Tu numero multiplicado por 5 es\", num*5)\n"
      ],
      "execution_count": 67,
      "outputs": [
        {
          "output_type": "stream",
          "name": "stdout",
          "text": [
            "Dame un numero 10\n",
            "Tu numero es 10\n",
            "Tu numero multiplicado por 5 es 1010101010\n",
            "Tu numero multiplicado por 5 es 50\n"
          ]
        }
      ]
    },
    {
      "cell_type": "code",
      "metadata": {
        "colab": {
          "base_uri": "https://localhost:8080/"
        },
        "id": "aASqmnjHJYO1",
        "outputId": "82cfa3de-3d77-4db9-a2a7-208e95749978"
      },
      "source": [
        "type (num)"
      ],
      "execution_count": 68,
      "outputs": [
        {
          "output_type": "execute_result",
          "data": {
            "text/plain": [
              "int"
            ]
          },
          "metadata": {},
          "execution_count": 68
        }
      ]
    },
    {
      "cell_type": "code",
      "metadata": {
        "colab": {
          "base_uri": "https://localhost:8080/"
        },
        "id": "pRVV3rHwP3Gm",
        "outputId": "f7c3fde3-bb85-4898-f1d7-d5ddc274f3a5"
      },
      "source": [
        "num = 10//3\n",
        "type (num)"
      ],
      "execution_count": 93,
      "outputs": [
        {
          "output_type": "stream",
          "name": "stdout",
          "text": [
            "3\n"
          ]
        }
      ]
    },
    {
      "cell_type": "code",
      "metadata": {
        "colab": {
          "base_uri": "https://localhost:8080/"
        },
        "id": "0alANC-AQEZU",
        "outputId": "b041f2b6-b6af-4386-95f2-2b02422bc94c"
      },
      "source": [
        "print (num)"
      ],
      "execution_count": 94,
      "outputs": [
        {
          "output_type": "stream",
          "name": "stdout",
          "text": [
            "3\n"
          ]
        }
      ]
    },
    {
      "cell_type": "code",
      "metadata": {
        "colab": {
          "base_uri": "https://localhost:8080/"
        },
        "id": "poCVChMyQJI2",
        "outputId": "fd8bb314-a442-4412-be82-6805dcfd24c2"
      },
      "source": [
        "num = 10/3\n",
        "print(num)"
      ],
      "execution_count": 97,
      "outputs": [
        {
          "output_type": "stream",
          "name": "stdout",
          "text": [
            "3.3333333333333335\n"
          ]
        }
      ]
    },
    {
      "cell_type": "code",
      "metadata": {
        "colab": {
          "base_uri": "https://localhost:8080/"
        },
        "id": "9pnAkBVlQPnd",
        "outputId": "9394c4e0-c34d-49c1-9612-2332877a6c2c"
      },
      "source": [
        "num = 10%3\n",
        "print(num)"
      ],
      "execution_count": 98,
      "outputs": [
        {
          "output_type": "stream",
          "name": "stdout",
          "text": [
            "1\n"
          ]
        }
      ]
    },
    {
      "cell_type": "code",
      "metadata": {
        "colab": {
          "base_uri": "https://localhost:8080/"
        },
        "id": "YkzEWgQeJbEZ",
        "outputId": "739147ec-2ba6-45d8-f1c4-6347ebe69f7d"
      },
      "source": [
        "nombre = \"Montse\"\n",
        "print(nombre)\n",
        "type(nombre) "
      ],
      "execution_count": 71,
      "outputs": [
        {
          "output_type": "stream",
          "name": "stdout",
          "text": [
            "Montse\n"
          ]
        },
        {
          "output_type": "execute_result",
          "data": {
            "text/plain": [
              "str"
            ]
          },
          "metadata": {},
          "execution_count": 71
        }
      ]
    },
    {
      "cell_type": "code",
      "metadata": {
        "colab": {
          "base_uri": "https://localhost:8080/"
        },
        "id": "YX6h0fYpJqZd",
        "outputId": "ef22e8f0-1bc4-4bbf-8461-1e3f87070f9a"
      },
      "source": [
        "num = int(input(\"Dame un numero:\"))\n",
        "mayor = (10>num)\n",
        "print(mayor)\n",
        "type(mayor)"
      ],
      "execution_count": 76,
      "outputs": [
        {
          "output_type": "stream",
          "name": "stdout",
          "text": [
            "Dame un numero:5\n",
            "True\n"
          ]
        },
        {
          "output_type": "execute_result",
          "data": {
            "text/plain": [
              "bool"
            ]
          },
          "metadata": {},
          "execution_count": 76
        }
      ]
    },
    {
      "cell_type": "code",
      "metadata": {
        "colab": {
          "base_uri": "https://localhost:8080/"
        },
        "id": "8as3sLS-NwVn",
        "outputId": "bfc20a96-538c-4ee4-abfb-b3880e36abe5"
      },
      "source": [
        "if (num == 5):\n",
        "  print (\"tu numero es 5\")\n",
        "else:\n",
        "  print (\"tu numero es diferente de 5\")\n"
      ],
      "execution_count": 77,
      "outputs": [
        {
          "output_type": "stream",
          "name": "stdout",
          "text": [
            "tu numero es 5\n"
          ]
        }
      ]
    },
    {
      "cell_type": "code",
      "metadata": {
        "colab": {
          "base_uri": "https://localhost:8080/"
        },
        "id": "r8abT-dLON1I",
        "outputId": "641eaba5-a057-4a91-d5a9-d253ded347a6"
      },
      "source": [
        "if (num != 5):\n",
        "  print (\"tu numero es diferente de 5\")\n",
        "else:\n",
        "  print (\"tu numero es 5\")"
      ],
      "execution_count": 79,
      "outputs": [
        {
          "output_type": "stream",
          "name": "stdout",
          "text": [
            "tu numero es 5\n"
          ]
        }
      ]
    },
    {
      "cell_type": "code",
      "metadata": {
        "colab": {
          "base_uri": "https://localhost:8080/"
        },
        "id": "29vighW8QZvR",
        "outputId": "966ca28e-81d1-4aa1-e494-3baec823de1d"
      },
      "source": [
        "num = int(input(\"Dame un numero:\"))\n",
        "if (num >=10 and num<=15):\n",
        "  print (\"Numero entre 10 y 15\")\n",
        "elif (num >15):\n",
        "  print (\"Numero mayor que 15\")\n",
        "else:\n",
        "  print (\"numero menor que 10\")"
      ],
      "execution_count": 105,
      "outputs": [
        {
          "output_type": "stream",
          "name": "stdout",
          "text": [
            "Dame un numero:3\n",
            "numero menor que 10\n"
          ]
        }
      ]
    },
    {
      "cell_type": "code",
      "metadata": {
        "colab": {
          "base_uri": "https://localhost:8080/"
        },
        "id": "9lNl8sX8OhM-",
        "outputId": "b1a9426e-d91c-4a48-d9d7-b0b51fcbb446"
      },
      "source": [
        "lista = range (6)\n",
        "for i in lista:\n",
        "  print(i)"
      ],
      "execution_count": 82,
      "outputs": [
        {
          "output_type": "stream",
          "name": "stdout",
          "text": [
            "0\n",
            "1\n",
            "2\n",
            "3\n",
            "4\n",
            "5\n"
          ]
        }
      ]
    },
    {
      "cell_type": "code",
      "metadata": {
        "colab": {
          "base_uri": "https://localhost:8080/"
        },
        "id": "MejliXe-O1GM",
        "outputId": "5130f71e-7034-4206-f9d9-d8ae9fe9e88c"
      },
      "source": [
        "lista = range (3,6)\n",
        "print(list(lista))\n",
        "print(\"la lista tiene\",len(lista),\"elementos\")"
      ],
      "execution_count": 90,
      "outputs": [
        {
          "output_type": "stream",
          "name": "stdout",
          "text": [
            "[3, 4, 5]\n",
            "la lista tiene 3 elementos\n"
          ]
        }
      ]
    },
    {
      "cell_type": "code",
      "metadata": {
        "colab": {
          "base_uri": "https://localhost:8080/"
        },
        "id": "LsImXrtkPmCQ",
        "outputId": "3a5a7147-8a7b-44b7-f3ea-04adf8bdbab9"
      },
      "source": [
        "lista=range(3,20,2)\n",
        "list(lista)"
      ],
      "execution_count": 91,
      "outputs": [
        {
          "output_type": "execute_result",
          "data": {
            "text/plain": [
              "[3, 5, 7, 9, 11, 13, 15, 17, 19]"
            ]
          },
          "metadata": {},
          "execution_count": 91
        }
      ]
    },
    {
      "cell_type": "code",
      "metadata": {
        "colab": {
          "base_uri": "https://localhost:8080/"
        },
        "id": "YvRB45UoPzs5",
        "outputId": "9a2cdd53-1003-4b98-9eac-db19a5a1a1df"
      },
      "source": [
        "nombre = \"Montse\"\n",
        "n_mayus=nombre.upper()\n",
        "print(n_mayus)\n",
        "print(nombre[2])\n",
        "len(nombre)"
      ],
      "execution_count": 132,
      "outputs": [
        {
          "output_type": "stream",
          "name": "stdout",
          "text": [
            "MONTSE\n",
            "n\n"
          ]
        },
        {
          "output_type": "execute_result",
          "data": {
            "text/plain": [
              "6"
            ]
          },
          "metadata": {},
          "execution_count": 132
        }
      ]
    },
    {
      "cell_type": "code",
      "metadata": {
        "colab": {
          "base_uri": "https://localhost:8080/"
        },
        "id": "75seTdUoT5wn",
        "outputId": "9add3335-8cc0-4a83-9237-fc67609de514"
      },
      "source": [
        "nombres = [\"Maria\",\"Pedro\",\"Juan\",\"Carmen\"]\n",
        "print(nombres[2])\n",
        "print(type(nombres))\n",
        "del nombres[2]\n",
        "print(nombres)\n",
        "nombres.insert(3,\"Jose\")\n",
        "print(nombres)\n",
        "print(\"Para ver la posicion donde se encuentra un valor usamos index, Carmen se encuentra en la posicion:\",nombres.index(\"Carmen\"))\n",
        "print(nombres)\n",
        "print(\"Para ver los elementos de la posicion 1 a la 2, pongo un 3 al final!\",nombres[1:3])\n",
        "nombres.append(\"Susana\")\n",
        "print(nombres)\n",
        "print(\"Para ver los elementos de 2 en 2:\",nombres[::2])\n",
        "print(\"Para ver los elementos en orden invertido uso -1:\",nombres[::-1])\n",
        "# para listar uno a uno los elementos de la lista\n",
        "for i in nombres:\n",
        "  print(i)"
      ],
      "execution_count": 161,
      "outputs": [
        {
          "output_type": "stream",
          "name": "stdout",
          "text": [
            "Juan\n",
            "<class 'list'>\n",
            "['Maria', 'Pedro', 'Carmen']\n",
            "['Maria', 'Pedro', 'Carmen', 'Jose']\n",
            "Para ver la posicion donde se encuentra un valor usamos index, Carmen se encuentra en la posicion: 2\n",
            "['Maria', 'Pedro', 'Carmen', 'Jose']\n",
            "Para ver los elementos de la posicion 1 a la 2, pongo un 3 al final! ['Pedro', 'Carmen']\n",
            "['Maria', 'Pedro', 'Carmen', 'Jose', 'Susana']\n",
            "Para ver los elementos de 2 en 2: ['Maria', 'Carmen', 'Susana']\n",
            "Para ver los elementos en orden invertido uso -1: ['Susana', 'Jose', 'Carmen', 'Pedro', 'Maria']\n",
            "Maria\n",
            "Pedro\n",
            "Carmen\n",
            "Jose\n",
            "Susana\n"
          ]
        }
      ]
    }
  ]
}